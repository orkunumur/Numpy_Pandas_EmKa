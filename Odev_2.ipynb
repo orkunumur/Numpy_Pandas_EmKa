{
 "cells": [
  {
   "attachments": {},
   "cell_type": "markdown",
   "metadata": {},
   "source": [
    "# Numpy Ödev 2"
   ]
  },
  {
   "attachments": {},
   "cell_type": "markdown",
   "metadata": {},
   "source": [
    "1) 0-29 arası(29 dahil, toplam 30 tam sayı) tam sayılardan oluşan bir boyutlu bir array oluşturun ardından bu array'in shape'ini (15,2) şeklinde güncelleyip 2 boyutlu hale getirin.\n"
   ]
  },
  {
   "cell_type": "code",
   "execution_count": 1,
   "metadata": {},
   "outputs": [],
   "source": [
    "import numpy as np"
   ]
  },
  {
   "cell_type": "code",
   "execution_count": 3,
   "metadata": {},
   "outputs": [
    {
     "data": {
      "text/plain": [
       "array([[ 0,  1],\n",
       "       [ 2,  3],\n",
       "       [ 4,  5],\n",
       "       [ 6,  7],\n",
       "       [ 8,  9],\n",
       "       [10, 11],\n",
       "       [12, 13],\n",
       "       [14, 15],\n",
       "       [16, 17],\n",
       "       [18, 19],\n",
       "       [20, 21],\n",
       "       [22, 23],\n",
       "       [24, 25],\n",
       "       [26, 27],\n",
       "       [28, 29]])"
      ]
     },
     "execution_count": 3,
     "metadata": {},
     "output_type": "execute_result"
    }
   ],
   "source": [
    "arr = np.arange(0,30)\n",
    "arr.reshape(15,2)"
   ]
  },
  {
   "attachments": {},
   "cell_type": "markdown",
   "metadata": {},
   "source": [
    "2) 60 adet rastgele tam sayı verilerinden oluşan bir boyutlu bir array oluşturun. Devamında bu array'i istediğiniz shapelerde 3 boyutlu hale getirin ve son durumda oluşan array'in boyutunu ve shape'ini kontrol edin.\n"
   ]
  },
  {
   "cell_type": "code",
   "execution_count": 8,
   "metadata": {},
   "outputs": [
    {
     "name": "stdout",
     "output_type": "stream",
     "text": [
      "[[[45 36 48 39]\n",
      "  [ 7 45 22 14]\n",
      "  [42 45 40 19]]\n",
      "\n",
      " [[16 14 47 24]\n",
      "  [ 6 23 35 46]\n",
      "  [ 6 35 40 35]]\n",
      "\n",
      " [[38 38 12 36]\n",
      "  [24  6 47 21]\n",
      "  [ 3 11  5 42]]\n",
      "\n",
      " [[14 44 15 11]\n",
      "  [16  5 22 39]\n",
      "  [ 3 27  2 13]]\n",
      "\n",
      " [[37 16 39 13]\n",
      "  [ 2  6 33 29]\n",
      "  [49 11 23 31]]]\n",
      "Dimension: 3\n",
      "Shape:  (5, 3, 4)\n"
     ]
    }
   ],
   "source": [
    "arr2 = np.random.randint(0,50, 60)\n",
    "arr2 = arr2.reshape(5,3,-1)\n",
    "print(arr2)\n",
    "print(\"Dimension:\", arr2.ndim)\n",
    "print(\"Shape: \", arr2.shape)"
   ]
  },
  {
   "attachments": {},
   "cell_type": "markdown",
   "metadata": {},
   "source": [
    "3) 20 elemanlı ve sadece rakamlardan oluşan iki boyutlu bir array oluşturun. Ardından bu array'i düzleştirin ve tek boyutlu hale getirin ve son durumda oluşan array'in boyutunu ve shape'ini kontrol edin.\n"
   ]
  },
  {
   "cell_type": "code",
   "execution_count": 11,
   "metadata": {},
   "outputs": [
    {
     "name": "stdout",
     "output_type": "stream",
     "text": [
      "[[20 15 26 11]\n",
      " [21 14 21 13]\n",
      " [12 11 13 23]\n",
      " [10 23 23 14]\n",
      " [25 29 23 29]]\n",
      "--------- AFTER FLATTEN ----------\n",
      "[20 15 26 11 21 14 21 13 12 11 13 23 10 23 23 14 25 29 23 29]\n"
     ]
    }
   ],
   "source": [
    "arr3 = np.random.randint(10,30, size=(5,4))\n",
    "print(arr3)\n",
    "arr3 = arr3.reshape(-1)\n",
    "print(\"--------- AFTER FLATTEN ----------\")\n",
    "print(arr3)"
   ]
  },
  {
   "attachments": {},
   "cell_type": "markdown",
   "metadata": {},
   "source": [
    "4) İstediğiniz herhangi elemanlardan oluşan 2 Boyutlu bir array oluşturun. Oluşturduğunuz bu 2 boyutlu array'in içindeki bütün elemanları hem yavaş yol olan for döngüsüyle hem de daha hızlı yol olan uygun NumPy metoduyla tek tek dönerek ekrana yazdırın.\n"
   ]
  },
  {
   "cell_type": "code",
   "execution_count": 13,
   "metadata": {},
   "outputs": [
    {
     "data": {
      "text/plain": [
       "array([[15, 13, 11, 12],\n",
       "       [13, 14, 18, 12],\n",
       "       [12, 15, 10, 10],\n",
       "       [16, 13, 14, 12]])"
      ]
     },
     "execution_count": 13,
     "metadata": {},
     "output_type": "execute_result"
    }
   ],
   "source": [
    "arr4 = np.random.randint(10,20, size=(4,4))\n",
    "arr4"
   ]
  },
  {
   "cell_type": "code",
   "execution_count": 14,
   "metadata": {},
   "outputs": [
    {
     "name": "stdout",
     "output_type": "stream",
     "text": [
      "15\n",
      "13\n",
      "11\n",
      "12\n",
      "13\n",
      "14\n",
      "18\n",
      "12\n",
      "12\n",
      "15\n",
      "10\n",
      "10\n",
      "16\n",
      "13\n",
      "14\n",
      "12\n"
     ]
    }
   ],
   "source": [
    "for i in arr4:\n",
    "    for j in i:\n",
    "        print(j)"
   ]
  },
  {
   "cell_type": "code",
   "execution_count": 16,
   "metadata": {},
   "outputs": [
    {
     "name": "stdout",
     "output_type": "stream",
     "text": [
      "15\n",
      "13\n",
      "11\n",
      "12\n",
      "13\n",
      "14\n",
      "18\n",
      "12\n",
      "12\n",
      "15\n",
      "10\n",
      "10\n",
      "16\n",
      "13\n",
      "14\n",
      "12\n"
     ]
    }
   ],
   "source": [
    "for k in np.nditer(arr4):\n",
    "    print(k)"
   ]
  },
  {
   "cell_type": "markdown",
   "metadata": {},
   "source": [
    "5) 5,10,15,20,25,30 değerlerinden oluşan bir boyutlu bir array ve\n",
    "   1,2,3,4,5,6 değerlerinden oluşan başka bir boyutlu bir array oluşturun.\n",
    "   Bu arraylerinin elemanlarına kendi aralarında 4 işlem uygulayın. İki arrayinde 1.indexindekiler toplansın/çıkartılsın/çarpılsın/bölünsün gibi."
   ]
  },
  {
   "cell_type": "code",
   "execution_count": 3,
   "metadata": {},
   "outputs": [
    {
     "name": "stdout",
     "output_type": "stream",
     "text": [
      "Toplam: [ 6 12 18 24 30 36]\n",
      "Fark: [ 4  8 12 16 20 24]\n",
      "Çarpım: [  5  20  45  80 125 180]\n",
      "Bölüm: [5. 5. 5. 5. 5. 5.]\n"
     ]
    }
   ],
   "source": [
    "arr5 = np.arange(5,35,5)\n",
    "arr6 = np.arange(1,7)\n",
    "print(\"Toplam:\", arr5 + arr6)\n",
    "print(\"Fark:\", arr5 - arr6)\n",
    "print(\"Çarpım:\", arr5 * arr6)\n",
    "print(\"Bölüm:\", arr5 / arr6)"
   ]
  },
  {
   "cell_type": "code",
   "execution_count": 5,
   "metadata": {},
   "outputs": [
    {
     "name": "stdout",
     "output_type": "stream",
     "text": [
      "Toplam: 6\n",
      "Fark: 4\n",
      "Çarpım: 5\n",
      "Bölüm: 5.0\n"
     ]
    }
   ],
   "source": [
    "print(\"Toplam:\", arr5[0] + arr6[0])\n",
    "print(\"Fark:\", arr5[0] - arr6[0])\n",
    "print(\"Çarpım:\", arr5[0] * arr6[0])\n",
    "print(\"Bölüm:\", arr5[0] / arr6[0])"
   ]
  },
  {
   "attachments": {},
   "cell_type": "markdown",
   "metadata": {},
   "source": [
    "6) 0-100 arası rastgele 10 tam sayıdan oluşan bir array oluşturun ve oluşturulan arrayin sum/mean/max/var/std değerlerini inceleyin.\n"
   ]
  },
  {
   "cell_type": "code",
   "execution_count": 7,
   "metadata": {},
   "outputs": [
    {
     "name": "stdout",
     "output_type": "stream",
     "text": [
      "Sum 584\n",
      "Mean 58.4\n",
      "Max 98\n",
      "Min 6\n",
      "Var 806.24\n",
      "Std 28.394365638274085\n"
     ]
    }
   ],
   "source": [
    "arr7 = np.random.randint(0,100, 10)\n",
    "print(\"Sum\", arr7.sum())\n",
    "print(\"Mean\", arr7.mean())\n",
    "print(\"Max\", arr7.max())\n",
    "print(\"Min\", arr7.min())\n",
    "print(\"Var\", arr7.var())\n",
    "print(\"Std\", arr7.std())"
   ]
  },
  {
   "attachments": {},
   "cell_type": "markdown",
   "metadata": {},
   "source": [
    "7) 0-20 arası(20 dahil değil) tam sayılardan oluşan ve 500-530(530 dahil) arası tam sayılardan oluşan 2 array oluşturun. Ardından bu iki array'i concatenate ederek ekrana yazdırın.\n"
   ]
  },
  {
   "cell_type": "code",
   "execution_count": 9,
   "metadata": {},
   "outputs": [
    {
     "data": {
      "text/plain": [
       "array([  0,   1,   2,   3,   4,   5,   6,   7,   8,   9,  10,  11,  12,\n",
       "        13,  14,  15,  16,  17,  18,  19,  20, 500, 501, 502, 503, 504,\n",
       "       505, 506, 507, 508, 509, 510, 511, 512, 513, 514, 515, 516, 517,\n",
       "       518, 519, 520, 521, 522, 523, 524, 525, 526, 527, 528, 529, 530])"
      ]
     },
     "execution_count": 9,
     "metadata": {},
     "output_type": "execute_result"
    }
   ],
   "source": [
    "arr8 = np.arange(0,21)\n",
    "arr9 = np.arange(500,531)\n",
    "arr_con = np.concatenate([arr8, arr9], axis=0)\n",
    "arr_con"
   ]
  },
  {
   "attachments": {},
   "cell_type": "markdown",
   "metadata": {},
   "source": [
    "8) 15-50(50 dahil) arası tam sayılardan oluşan bir array oluşturun. Daha sonra 10-100 arası(100 dahil) tam sayılardan oluşan 2.bir array oluşturun. Bu 2 arrayi concatanate ederek 3.bir array oluşturun ve bu array'in 25.index ile 50.index'i(50 dahil) arasındaki değerlerini 888 yapın.\n"
   ]
  },
  {
   "cell_type": "code",
   "execution_count": 14,
   "metadata": {},
   "outputs": [
    {
     "data": {
      "text/plain": [
       "array([ 15,  16,  17,  18,  19,  20,  21,  22,  23,  24,  25,  26,  27,\n",
       "        28,  29,  30,  31,  32,  33,  34,  35,  36,  37,  38,  39,  40,\n",
       "        41,  42,  43,  44,  45,  46,  47,  48,  49,  50,  10,  11,  12,\n",
       "        13,  14,  15,  16,  17,  18,  19,  20,  21,  22,  23,  24,  25,\n",
       "        26,  27,  28,  29,  30,  31,  32,  33,  34,  35,  36,  37,  38,\n",
       "        39,  40,  41,  42,  43,  44,  45,  46,  47,  48,  49,  50,  51,\n",
       "        52,  53,  54,  55,  56,  57,  58,  59,  60,  61,  62,  63,  64,\n",
       "        65,  66,  67,  68,  69,  70,  71,  72,  73,  74,  75,  76,  77,\n",
       "        78,  79,  80,  81,  82,  83,  84,  85,  86,  87,  88,  89,  90,\n",
       "        91,  92,  93,  94,  95,  96,  97,  98,  99, 100])"
      ]
     },
     "execution_count": 14,
     "metadata": {},
     "output_type": "execute_result"
    }
   ],
   "source": [
    "arr10 = np.arange(15,51)\n",
    "arr11 = np.arange(10,101)\n",
    "arr_con1 = np.concatenate([arr10, arr11])\n",
    "arr_con1\n"
   ]
  },
  {
   "cell_type": "code",
   "execution_count": 15,
   "metadata": {},
   "outputs": [
    {
     "data": {
      "text/plain": [
       "array([ 15,  16,  17,  18,  19,  20,  21,  22,  23,  24,  25,  26,  27,\n",
       "        28,  29,  30,  31,  32,  33,  34,  35,  36,  37,  38,  39, 888,\n",
       "        41,  42,  43,  44,  45,  46,  47,  48,  49,  50,  10,  11,  12,\n",
       "        13,  14,  15,  16,  17,  18,  19,  20,  21,  22,  23, 888,  25,\n",
       "        26,  27,  28,  29,  30,  31,  32,  33,  34,  35,  36,  37,  38,\n",
       "        39,  40,  41,  42,  43,  44,  45,  46,  47,  48,  49,  50,  51,\n",
       "        52,  53,  54,  55,  56,  57,  58,  59,  60,  61,  62,  63,  64,\n",
       "        65,  66,  67,  68,  69,  70,  71,  72,  73,  74,  75,  76,  77,\n",
       "        78,  79,  80,  81,  82,  83,  84,  85,  86,  87,  88,  89,  90,\n",
       "        91,  92,  93,  94,  95,  96,  97,  98,  99, 100])"
      ]
     },
     "execution_count": 15,
     "metadata": {},
     "output_type": "execute_result"
    }
   ],
   "source": [
    "arr_con1[25] = 888\n",
    "arr_con1[50] = 888\n",
    "arr_con1"
   ]
  },
  {
   "attachments": {},
   "cell_type": "markdown",
   "metadata": {},
   "source": [
    "9) 0-40(40 dahil değil) arası değerlerden oluşan (8,5) shape'inde 2 boyutlu bir array ve  320-360(360 dahil değil) değerlerinden oluşan (8,5) shape'inde 2 boyutlubaşka bir array oluşturun. Devamında bu iki array'i hem axis = 0'da hem de axis = 1'de concatenate ederek farkı karşılaştırın.\n"
   ]
  },
  {
   "cell_type": "code",
   "execution_count": 20,
   "metadata": {},
   "outputs": [
    {
     "name": "stdout",
     "output_type": "stream",
     "text": [
      "Axis = 0: [[ 13  17  28  17   8]\n",
      " [ 22  33  37  20  21]\n",
      " [ 27  19   6  27   7]\n",
      " [ 14   3  36  21  29]\n",
      " [ 25  27  10   7  35]\n",
      " [ 10   0  38  23   2]\n",
      " [ 14   8  15  39  17]\n",
      " [  5   8  32  26  21]\n",
      " [350 344 336 332 335]\n",
      " [329 349 323 330 346]\n",
      " [332 335 322 353 327]\n",
      " [347 323 341 339 321]\n",
      " [340 337 352 350 347]\n",
      " [338 323 344 354 337]\n",
      " [329 344 345 341 353]\n",
      " [344 341 320 336 355]]\n",
      "--------------------------\n",
      "Axis = 1: [[ 13  17  28  17   8 350 344 336 332 335]\n",
      " [ 22  33  37  20  21 329 349 323 330 346]\n",
      " [ 27  19   6  27   7 332 335 322 353 327]\n",
      " [ 14   3  36  21  29 347 323 341 339 321]\n",
      " [ 25  27  10   7  35 340 337 352 350 347]\n",
      " [ 10   0  38  23   2 338 323 344 354 337]\n",
      " [ 14   8  15  39  17 329 344 345 341 353]\n",
      " [  5   8  32  26  21 344 341 320 336 355]]\n"
     ]
    }
   ],
   "source": [
    "arr12 = np.random.randint(0,40, (8,5))\n",
    "arr13 = np.random.randint(320,360, (8,5))\n",
    "arr_con2 = np.concatenate([arr12, arr13], axis=0)\n",
    "arr_con3 = np.concatenate([arr12, arr13], axis=1)\n",
    "print(\"Axis = 0:\", arr_con2)\n",
    "print(\"--------------------------\")\n",
    "print(\"Axis = 1:\", arr_con3)"
   ]
  },
  {
   "attachments": {},
   "cell_type": "markdown",
   "metadata": {},
   "source": [
    "10) 9.Soruda oluşturduğunuz 2 array'i axis = 2'de concatenate etmeye çalışın. Ardından axis = 2'de stacklemeye(yığınlamaya) çalışın. İkisi arasındaki farkı karşılaştırın."
   ]
  },
  {
   "cell_type": "code",
   "execution_count": 21,
   "metadata": {},
   "outputs": [
    {
     "ename": "AxisError",
     "evalue": "axis 2 is out of bounds for array of dimension 2",
     "output_type": "error",
     "traceback": [
      "\u001b[1;31m---------------------------------------------------------------------------\u001b[0m",
      "\u001b[1;31mAxisError\u001b[0m                                 Traceback (most recent call last)",
      "Cell \u001b[1;32mIn[21], line 1\u001b[0m\n\u001b[1;32m----> 1\u001b[0m arr_con4 \u001b[39m=\u001b[39m np\u001b[39m.\u001b[39;49mconcatenate([arr12, arr13], axis\u001b[39m=\u001b[39;49m\u001b[39m2\u001b[39;49m)\n",
      "File \u001b[1;32m<__array_function__ internals>:5\u001b[0m, in \u001b[0;36mconcatenate\u001b[1;34m(*args, **kwargs)\u001b[0m\n",
      "\u001b[1;31mAxisError\u001b[0m: axis 2 is out of bounds for array of dimension 2"
     ]
    }
   ],
   "source": [
    "arr_con4 = np.concatenate([arr12, arr13], axis=2)"
   ]
  },
  {
   "cell_type": "code",
   "execution_count": 22,
   "metadata": {},
   "outputs": [
    {
     "data": {
      "text/plain": [
       "array([[[ 13, 350],\n",
       "        [ 17, 344],\n",
       "        [ 28, 336],\n",
       "        [ 17, 332],\n",
       "        [  8, 335]],\n",
       "\n",
       "       [[ 22, 329],\n",
       "        [ 33, 349],\n",
       "        [ 37, 323],\n",
       "        [ 20, 330],\n",
       "        [ 21, 346]],\n",
       "\n",
       "       [[ 27, 332],\n",
       "        [ 19, 335],\n",
       "        [  6, 322],\n",
       "        [ 27, 353],\n",
       "        [  7, 327]],\n",
       "\n",
       "       [[ 14, 347],\n",
       "        [  3, 323],\n",
       "        [ 36, 341],\n",
       "        [ 21, 339],\n",
       "        [ 29, 321]],\n",
       "\n",
       "       [[ 25, 340],\n",
       "        [ 27, 337],\n",
       "        [ 10, 352],\n",
       "        [  7, 350],\n",
       "        [ 35, 347]],\n",
       "\n",
       "       [[ 10, 338],\n",
       "        [  0, 323],\n",
       "        [ 38, 344],\n",
       "        [ 23, 354],\n",
       "        [  2, 337]],\n",
       "\n",
       "       [[ 14, 329],\n",
       "        [  8, 344],\n",
       "        [ 15, 345],\n",
       "        [ 39, 341],\n",
       "        [ 17, 353]],\n",
       "\n",
       "       [[  5, 344],\n",
       "        [  8, 341],\n",
       "        [ 32, 320],\n",
       "        [ 26, 336],\n",
       "        [ 21, 355]]])"
      ]
     },
     "execution_count": 22,
     "metadata": {},
     "output_type": "execute_result"
    }
   ],
   "source": [
    "arr_con5 = np.stack([arr12, arr13], axis=2)\n",
    "arr_con5"
   ]
  },
  {
   "attachments": {},
   "cell_type": "markdown",
   "metadata": {},
   "source": [
    "11) [1, 20, 25, 4, 4, 5, 4, 4, 1, 6, 9, 12, 1, 5] değerlerinden oluşan bir boyutlu bir array oluşturun. Devamında bu array'in içinde değeri 5'e eşit olan değerlerin indexleri bulun.\n"
   ]
  },
  {
   "cell_type": "code",
   "execution_count": 3,
   "metadata": {},
   "outputs": [
    {
     "data": {
      "text/plain": [
       "(array([ 5, 13], dtype=int64),)"
      ]
     },
     "execution_count": 3,
     "metadata": {},
     "output_type": "execute_result"
    }
   ],
   "source": [
    "arr14 = np.array([1, 20, 25, 4, 4, 5, 4, 4, 1, 6, 9, 12, 1, 5])\n",
    "np.where(arr14 == 5)"
   ]
  },
  {
   "attachments": {},
   "cell_type": "markdown",
   "metadata": {},
   "source": [
    "12) Yukarıda oluşturduğunuz array içinde değeri çift olan değerlerin indexlerini bulun.\n"
   ]
  },
  {
   "cell_type": "code",
   "execution_count": 4,
   "metadata": {},
   "outputs": [
    {
     "data": {
      "text/plain": [
       "(array([ 1,  3,  4,  6,  7,  9, 11], dtype=int64),)"
      ]
     },
     "execution_count": 4,
     "metadata": {},
     "output_type": "execute_result"
    }
   ],
   "source": [
    "np.where(arr14 % 2 == 0)"
   ]
  },
  {
   "attachments": {},
   "cell_type": "markdown",
   "metadata": {},
   "source": [
    "13) Yukarıda oluşturduğunuz array içinde değeri 4'den büyük olan değerlerin indexlerini bulun."
   ]
  },
  {
   "cell_type": "code",
   "execution_count": 5,
   "metadata": {},
   "outputs": [
    {
     "data": {
      "text/plain": [
       "(array([ 1,  2,  5,  9, 10, 11, 13], dtype=int64),)"
      ]
     },
     "execution_count": 5,
     "metadata": {},
     "output_type": "execute_result"
    }
   ],
   "source": [
    "np.where(arr14 > 4)\n"
   ]
  },
  {
   "attachments": {},
   "cell_type": "markdown",
   "metadata": {},
   "source": [
    "14) Yukarıda oluşturduğunuz array içinde değeri 5'e tam bölünen değerlerin indexlerini bulun.\n"
   ]
  },
  {
   "cell_type": "code",
   "execution_count": 6,
   "metadata": {},
   "outputs": [
    {
     "data": {
      "text/plain": [
       "(array([ 1,  2,  5, 13], dtype=int64),)"
      ]
     },
     "execution_count": 6,
     "metadata": {},
     "output_type": "execute_result"
    }
   ],
   "source": [
    "np.where(arr14 % 5 == 0)\n"
   ]
  },
  {
   "attachments": {},
   "cell_type": "markdown",
   "metadata": {},
   "source": [
    "15) 85-100(100 dahil) arasından rastgele 1 tam sayı seçin"
   ]
  },
  {
   "cell_type": "code",
   "execution_count": 40,
   "metadata": {},
   "outputs": [
    {
     "data": {
      "text/plain": [
       "87"
      ]
     },
     "execution_count": 40,
     "metadata": {},
     "output_type": "execute_result"
    }
   ],
   "source": [
    "np.random.choice(range(85,101))"
   ]
  },
  {
   "attachments": {},
   "cell_type": "markdown",
   "metadata": {},
   "source": [
    "16) İki basamaklı tam sayılar arasından rastgele sayılar seçerek (3,3) shape'inde bir array oluşturun.\n"
   ]
  },
  {
   "cell_type": "code",
   "execution_count": 41,
   "metadata": {},
   "outputs": [
    {
     "data": {
      "text/plain": [
       "array([[36, 83, 67],\n",
       "       [63, 49, 80],\n",
       "       [27, 97, 61]])"
      ]
     },
     "execution_count": 41,
     "metadata": {},
     "output_type": "execute_result"
    }
   ],
   "source": [
    "np.random.randint(low=10, high=99,size=(3,3))"
   ]
  },
  {
   "attachments": {},
   "cell_type": "markdown",
   "metadata": {},
   "source": [
    "17) 35-60 arasındaki tam sayılardan bir array oluşturun, ardından bu array içinden rastgele 1 tam sayı seçin.\n"
   ]
  },
  {
   "cell_type": "code",
   "execution_count": 42,
   "metadata": {},
   "outputs": [
    {
     "data": {
      "text/plain": [
       "56"
      ]
     },
     "execution_count": 42,
     "metadata": {},
     "output_type": "execute_result"
    }
   ],
   "source": [
    "arr15 = np.arange(35, 61)\n",
    "np.random.choice(arr15)"
   ]
  },
  {
   "attachments": {},
   "cell_type": "markdown",
   "metadata": {},
   "source": [
    "18) Sadece [3, 8, 10, 53] değerlerinden oluşan (2,5) shape'inde 2 boyutlu bir array oluşturun."
   ]
  },
  {
   "cell_type": "code",
   "execution_count": 44,
   "metadata": {},
   "outputs": [
    {
     "data": {
      "text/plain": [
       "array([[ 8,  8, 53,  3,  8],\n",
       "       [10, 10, 10,  3, 53]])"
      ]
     },
     "execution_count": 44,
     "metadata": {},
     "output_type": "execute_result"
    }
   ],
   "source": [
    "np.random.choice([3, 8, 10, 53], size=(2,5))"
   ]
  }
 ],
 "metadata": {
  "kernelspec": {
   "display_name": "base",
   "language": "python",
   "name": "python3"
  },
  "language_info": {
   "codemirror_mode": {
    "name": "ipython",
    "version": 3
   },
   "file_extension": ".py",
   "mimetype": "text/x-python",
   "name": "python",
   "nbconvert_exporter": "python",
   "pygments_lexer": "ipython3",
   "version": "3.9.12"
  },
  "orig_nbformat": 4
 },
 "nbformat": 4,
 "nbformat_minor": 2
}
